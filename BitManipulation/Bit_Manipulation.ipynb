{
  "nbformat": 4,
  "nbformat_minor": 0,
  "metadata": {
    "colab": {
      "name": "Bit Manipulation",
      "provenance": []
    },
    "kernelspec": {
      "name": "python3",
      "display_name": "Python 3"
    },
    "language_info": {
      "name": "python"
    }
  },
  "cells": [
    {
      "cell_type": "markdown",
      "source": [
        "# Bit Manipulation"
      ],
      "metadata": {
        "id": "a9DLpQsBPUAJ"
      }
    },
    {
      "cell_type": "markdown",
      "source": [
        "## Range :  ${2^{n-1}} \\text{ to } 2^{n-1}-1 $\n",
        "\n",
        "[Youtube](https://youtu.be/v62IKeJtj0k)"
      ],
      "metadata": {
        "id": "X7EDERC8PX5E"
      }
    },
    {
      "cell_type": "markdown",
      "source": [
        "## Bits Manipulation Operators:"
      ],
      "metadata": {
        "id": "vC59lO4NP9XQ"
      }
    },
    {
      "cell_type": "markdown",
      "source": [
        "1. OR ($\\mid$) : \n",
        "  - a $\\mid$ 1 = 1 (1 is powerful)\n",
        "  - a $\\mid$ 0 = 0\n",
        "\n",
        "> Used to `ON` the bits"
      ],
      "metadata": {
        "id": "VPugE5iaQaPz"
      }
    },
    {
      "cell_type": "markdown",
      "source": [
        "2. AND ($\\text{&}$)\n",
        "  - a $\\text{&}$ 0 = 0 (0 is powerful)\n",
        "  - a $\\text{&}$ 1 = a\n",
        "\n",
        "> Used to `OFF` the bits."
      ],
      "metadata": {
        "id": "RYWNbvLVQvTr"
      }
    },
    {
      "cell_type": "markdown",
      "source": [
        "3. XOR ($\\land$) [Toggle bits]\n",
        "  - a ($\\land$) 1 = $\\sim$a (1 is powerful)\n",
        "  - a ($\\land$) 0 = a\n",
        "\n",
        "> Used to `Toggle` the bits "
      ],
      "metadata": {
        "id": "GKVGaCoWRX16"
      }
    },
    {
      "cell_type": "markdown",
      "source": [
        "4. Left Shift ($\\ll$)\n",
        "  - add the zero from left side and shift the bits to right side.\n",
        "  - example: x << 2\n",
        "\n",
        "    1 0 0 1 0 1 0 $\\to$ \n",
        "\n",
        "    1st left shift : 0 0 1 0 1 0 (0)\n",
        "\n",
        "    2nd left shift: 0 1 0 1 0 (0) (0) $\\to$ 40"
      ],
      "metadata": {
        "id": "18g9yn9nSIPA"
      }
    },
    {
      "cell_type": "markdown",
      "source": [
        "5. Right Shift ($\\gg$)\n",
        "\n",
        "a. **Logical Right Shifts**\n",
        "  - When shifting right with a logical right shift, the least-significant bit is lost and a 000 is inserted on the other end. \n",
        "  - 1011 >>> 1  →  0101\n",
        "  - 1011 >>> 3  →  0001\n",
        "  - For positive numbers, a single logical right shift divides a number by 2, throwing out any remainders. \n",
        "\n",
        "b. **Arithmetic Right Shifts**\n",
        "  - When shifting right with an arithmetic right shift, the least-significant bit is lost and the most-significant bit is copied. \n",
        "  - The first two numbers had a 111 as the most significant bit, so more 111's were inserted during the shift. The last two numbers had a 000 as the most significant bit, so the shift inserted more 000's.\n",
        "  - 1011 >> 1  →  1101\n",
        "  - 1011 >> 3  →  1111\n",
        "  - 0011 >> 1  →  0001\n",
        "  - 0011 >> 2  →  0000\n",
        "  - If a number is encoded using two's complement, then an arithmetic right shift preserves the number's sign, while a logical right shift makes the number positive.\n",
        "  - // Arithmetic shift\n",
        "  - 1011 >> 1  →  1101\n",
        "  - 1011 is -5\n",
        "  - 1101 is -3\n",
        "  - // Logical shift\n",
        "  - 1111 >>> 1  →  0111\n",
        "  - 1111 is -1\n",
        "  - 0111 is  7"
      ],
      "metadata": {
        "id": "aTDjx7TlXUeQ"
      }
    },
    {
      "cell_type": "markdown",
      "source": [
        "## Masks"
      ],
      "metadata": {
        "id": "p8QyoX7HYT8M"
      }
    },
    {
      "cell_type": "markdown",
      "source": [
        "#### ON the bit\n",
        "1. To **`ON`** bit $\\to$ OR operaor $\\mid$ (1 is powerful)\n",
        "\n",
        "$$x = 1 0 1 1 (0) 1 1 1$$\n",
        "\n",
        "- i want to `on` the bit (0) so we have to create a mask.\n",
        "\n",
        "$$mask = 0 0 0 0 (1) 0 0 0$$\n",
        "\n",
        "$$x =  1 0 1 1 (0) 1 1 1$$\n",
        "$$m =  0 0 0 0 (1) 0 0 0$$\n",
        "$$--------$$\n",
        "$$m{\\mid} x = 1 0 1 1 (1) 1 1 1$$\n",
        "\n",
        "---\n",
        "**Mask To On:** $mask = 1 \\ll n$ , where $n$ is the $n^{th}$ bit."
      ],
      "metadata": {
        "id": "NRmxZJdaYW9C"
      }
    },
    {
      "cell_type": "markdown",
      "source": [
        "#### OFF the bit\n",
        "1. To **`OFF`** bit $\\to$ AND operaor $\\text{&}$ (0 is powerful)\n",
        "\n",
        "$$x = 1 0 1 (1) 0 1 0 1$$\n",
        "\n",
        "- i want to `off` the bit (1) so we have to create a mask, make mask such that nth bit have 0 and all other 1.\n",
        "\n",
        "$$mask = 1 1 1 (0) 1 1 1 1$$\n",
        "\n",
        "$$x =  1 0 1 (1) 0 1 0 1$$\n",
        "$$m =  1 1 1 (0) 1 1 1 1$$\n",
        "$$--------$$\n",
        "$$m{\\text{&}} x = 1 0 1 (0) 0 1 0 1$$\n",
        "\n",
        "---\n",
        "**Mask To Off:** $mask =\\text{ } \\sim(1 \\ll n)$ , where $n$ is the $n^{th}$ bit."
      ],
      "metadata": {
        "id": "jB5pX7L0ayMD"
      }
    },
    {
      "cell_type": "markdown",
      "source": [
        "#### Toggle the bit\n",
        "1. To **`Toggle`** bit $\\to$ XOR operaor $\\land$ (1 is powerful)\n",
        "\n",
        "$$x = 1 0 1 (1) 0 1 0 1$$\n",
        "\n",
        "- i want to `toggle` the bit (1) so we have to create a mask, make mask such that nth bit have 1 and all other 0.\n",
        "\n",
        "$$mask = 0 0 0 (1) 0 0 0 0$$\n",
        "\n",
        "$$x =  1 0 1 (1) 0 1 0 1$$\n",
        "$$m =  0 0 0 (1) 0 0 0 0$$\n",
        "$$--------$$\n",
        "$$m{\\land} x = 1 0 1 (0) 0 1 0 1$$\n",
        "\n",
        "---\n",
        "**Mask To Toggle:** $mask = (1 \\ll n)$ , where $n$ is the $n^{th}$ bit."
      ],
      "metadata": {
        "id": "XKN0BFO6bk_i"
      }
    },
    {
      "cell_type": "markdown",
      "source": [
        "#### Check the bit, ON/OFF\n",
        "1. To **`Check`** bit $\\to$ AND operaor $\\text{&}$ (1 is powerful)\n",
        "\n",
        "$$x = 1 1 0 (1) 0 0 1 1$$\n",
        "\n",
        "- i want to `check` the bit (1) so we have to create a mask, we will make all 0 and whom we check we make it 1.\n",
        "\n",
        "$$mask = 0 0 0 (1) 0 0 0 0$$\n",
        "\n",
        "$$x =  1 1 0 (1) 0 0 1 1$$\n",
        "$$m =  0 0 0 (1) 0 0 0 0$$\n",
        "$$--------$$\n",
        "$$m{\\text{&}} x = 0 0 0 (1) 0 0 0 0$$\n",
        "\n",
        "- if $m\\text{&}x \\neq 0$ `set`\n",
        "- if $m\\text{&}x = 0$ `not set`\n",
        "\n",
        "---\n",
        "**Mask To Check:** $mask = (1 \\ll n)$ , where $n$ is the $n^{th}$ bit."
      ],
      "metadata": {
        "id": "S1mYW94McZ6c"
      }
    },
    {
      "cell_type": "markdown",
      "source": [
        "## Right Most Set Bit MASK (RSB)"
      ],
      "metadata": {
        "id": "xuA3ZszVP46y"
      }
    },
    {
      "cell_type": "markdown",
      "source": [
        "- We will create mask of the right most set bit.\n",
        "- so in mask all are 0's and only right most set bit have (1) bit in mask\n",
        "- Example:\n",
        "\n",
        "$$76 \\to ...00001001(1)00$$\n",
        "\n",
        "$$rmsb \\to ...00000000(1)00$$\n",
        "\n",
        "- in 76, (1) is the right most set bit.\n",
        "\n",
        "### RSB = x & (2's complement of x) \n",
        "\n",
        "### $rmsb = x \\text{&} -x$\n",
        "\n",
        "### 2's complement of x = ${\\sim}x + 1$ \n",
        "\n",
        "- e.g. x = (A 1's and B 0's) [1] (B 0's)\n",
        "- $\\sim x$ = (A 0's and B 1's) [0] (B 1's)\n",
        "- $\\sim x + 1$ = (A 0's and B 1's) [1] (B 0's)\n",
        "\n",
        "$$x \\text{&} (\\sim x + 1) = \\text{(A 0's and B 0's)[1](B 0's)}$$\n",
        "\n",
        "$$x \\text{&} (\\sim x + 1) = \\text{...0000..00(1)00..0000...}$$\n",
        "\n",
        "\n",
        "\n",
        "---\n",
        "**Right Most Set Bit Mask:** $rmsb = x \\text{&} -x$\n",
        "\n"
      ],
      "metadata": {
        "id": "VNjZTsRHXTBC"
      }
    }
  ]
}