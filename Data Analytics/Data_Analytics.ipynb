{
  "nbformat": 4,
  "nbformat_minor": 0,
  "metadata": {
    "colab": {
      "name": "Data Analytics",
      "provenance": []
    },
    "kernelspec": {
      "name": "python3",
      "display_name": "Python 3"
    },
    "language_info": {
      "name": "python"
    }
  },
  "cells": [
    {
      "cell_type": "markdown",
      "source": [
        "# **Data Analytics**"
      ],
      "metadata": {
        "id": "xuAWizyyV0aI"
      }
    },
    {
      "cell_type": "markdown",
      "source": [
        "# Linear Algebra\n",
        "- Data Representation.\n",
        "- Identifying Linear Equation.\n",
        "- Fundamental Block in machine learning algorithm.\n",
        "\n"
      ],
      "metadata": {
        "id": "ornllsNbWCuw"
      }
    },
    {
      "cell_type": "markdown",
      "source": [
        "### Matrix:"
      ],
      "metadata": {
        "id": "j7HETJ0dYsGY"
      }
    },
    {
      "cell_type": "markdown",
      "source": [
        "- Matrix can be used to represent samples with multiple attributes in compact form.\n",
        "- Matrices can also be used to represent linear equations in compact and simple fashions.\n",
        "- Linear algebra provides tools to understand and manipulate matrices to derive useful knowledge from data.\n",
        "\n",
        "1. Usually matrices are used to store and represent the data on machines.\n",
        "2. Matrix is a very natual approach for organizing data.\n",
        "3. In General, data is organized in following fashion:\n",
        "    - Rows represent samples.\n",
        "    - Columns represent the values of the variables/attributes.\n",
        "    - It is also possible to use rows for variables and columns for samples.\n",
        "    - We will stick to rows as samples and columns as variables in further discussion."
      ],
      "metadata": {
        "id": "WjYkf6YjWbQq"
      }
    },
    {
      "cell_type": "markdown",
      "source": [
        "Example:\n",
        "- Consider a reactor which needs to be controlled using multiple attributes from various sensors like Pressure(Pa), Temperature(K), Density ($gm/m^3$)\n",
        "- Independently, the sensors have generated 1000 data points.\n",
        "- This complete set of information is contained in\n",
        "\n",
        "$$\n",
        "\\begin{matrix}\n",
        "No.\\\\ \n",
        "1 \\\\\n",
        ".\\\\\n",
        ". \\\\\n",
        "1000\\\\\n",
        "\\end{matrix}\n",
        "\\begin{bmatrix}\n",
        "P & K & \\rho \\\\\n",
        "1 & 2 & 3 \\\\\n",
        ". & . & . \\\\\n",
        ". & . & . \\\\\n",
        "500 & 1000 & 5000 \\\\\n",
        "\\end{bmatrix}\n",
        "$$\n",
        "\n",
        "- Columns are used to\n",
        "represent the variable. So, each column represents a variable column 1 pressure, column 2 temperature and column 3 density and when you look at the rows; the first row represents the first sample.\n",
        "\n",
        "-  First sample you will read that the value of pressure was\n",
        "300, the value of temperature was 300 and the value of density was 1000. Similar to that you will have many rows corresponding to each sample point up to the last row 1000th row, which is a 1000 sample point; which has a pressure is 500 temperature is 1000 and density is 5000."
      ],
      "metadata": {
        "id": "3JPKHE73WljR"
      }
    },
    {
      "cell_type": "markdown",
      "source": [
        "## Linear Algebra (Formal Defination)\n",
        "\n"
      ],
      "metadata": {
        "id": "rI2wmRES9oFz"
      }
    },
    {
      "cell_type": "markdown",
      "source": [
        "Linear algebra is the branch of mathematics\n",
        "concerning linear equations such as\n",
        "\n",
        "$a_1x_1 + a_2x_2 + . . . + a_nx_n = b$\n",
        "\n",
        "- In vector notation we say: $a^Tx  = b$\n",
        "- Called linear transformation of $x$"
      ],
      "metadata": {
        "id": "yR9NthINB7Bc"
      }
    },
    {
      "cell_type": "markdown",
      "source": [
        "### Some Definations\n",
        "\n"
      ],
      "metadata": {
        "id": "OCiS8A5_-Z5r"
      }
    },
    {
      "cell_type": "markdown",
      "source": [
        "1. Scalar:\n",
        "  - It is a single number\n",
        "  - Represented in lowecase italix $x$\n",
        "  - It can be real valued or integers, $x \\in \\mathbb{R}$ or $x \\in \\mathbb{Z}$"
      ],
      "metadata": {
        "id": "VbykeYu3B0l3"
      }
    },
    {
      "cell_type": "markdown",
      "source": [
        "2. Vector:\n",
        "  - Array of numbers arranged in order.\n",
        "  - Each number is identified by an index.\n",
        "  - written in lowecase bold such as $x$\n",
        "  $$\n",
        "  \\begin{matrix}\n",
        "    \\\\\n",
        "    \\\\\n",
        "    x = \\\\\n",
        "    \\\\\n",
        "    \\\\ \n",
        "    \\end{matrix}\n",
        "    \\begin{bmatrix}\n",
        "    x_1 \\\\\n",
        "    x_2 \\\\\n",
        "    x_3 \\\\\n",
        "    . \\\\\n",
        "    . \\\\ \n",
        "    x_n\n",
        "    \\end{bmatrix}\n",
        "  $$\n",
        "  - if each element is in $\\mathbb{R}$ then $x$ is in $\\mathbb{R}^n$ where $n$ is dimension.\n",
        "  - we can think vector as a point in space.\n",
        "  - each element give co-ordinate along an axis\n",
        "  e.g. (x,y) = (1,3)\n",
        "  $$\n",
        "  \\begin{bmatrix}\n",
        "    x \\\\ \n",
        "    y   \n",
        "  \\end{bmatrix}\n",
        "  =\n",
        "  \\begin{bmatrix}\n",
        "    1 \\\\ \n",
        "    3   \n",
        "  \\end{bmatrix}\n",
        "  $$"
      ],
      "metadata": {
        "id": "Nt0l5GK4AGbZ"
      }
    },
    {
      "cell_type": "markdown",
      "source": [
        "## More Example"
      ],
      "metadata": {
        "id": "ctUKkvZYCIUr"
      }
    },
    {
      "cell_type": "markdown",
      "source": [
        "An Image is also represented as a matrix.\n",
        "\n",
        "![](https://cdn.analyticsvidhya.com/wp-content/uploads/2021/03/Screenshot-from-2021-03-16-10-58-08.png)\n"
      ],
      "metadata": {
        "id": "V8x0d_mHCMym"
      }
    },
    {
      "cell_type": "markdown",
      "source": [
        "![](https://cdn.analyticsvidhya.com/wp-content/uploads/2021/03/Screenshot-from-2021-03-16-10-58-29.png)"
      ],
      "metadata": {
        "id": "fwnVDiBjC8Yc"
      }
    },
    {
      "cell_type": "markdown",
      "source": [
        "Now let’s quickly summarize the points that we’ve learned so far-\n",
        "\n",
        "- Images are stored in the form of a matrix of numbers in a computer where these numbers are known as pixel values.\n",
        "- These pixel values represent the intensity of each pixel.\n",
        "- 0 represents black and 255 represents white.\n",
        "- The matrix of numbers is known as the channel and in the case of a grayscale image, we have only one channel.\n"
      ],
      "metadata": {
        "id": "W3gwc14qDDYf"
      }
    },
    {
      "cell_type": "markdown",
      "source": [
        "**How Colored images are stored on a computer?**\n",
        "\n",
        "![](https://cdn.analyticsvidhya.com/wp-content/uploads/2021/03/Screenshot-from-2021-03-16-11-00-53.png)\n",
        "\n",
        "This image is composed of many colors and almost all colors can be generated from the three primary colors- Red, Green, and Blue. We can say that each colored image is composed of these three colors or 3 channels- Red, Green, and Blue-\n",
        "\n",
        "![](https://cdn.analyticsvidhya.com/wp-content/uploads/2021/03/Screenshot-from-2021-03-16-11-01-53.png)\n",
        "\n",
        "This means that in a colored image the number of matrices or the number of channels will be more. In this particular example, we have 3 matrices- 1 matrix for red known as Red channel-\n",
        "\n",
        "![](https://cdn.analyticsvidhya.com/wp-content/uploads/2021/03/Screenshot-from-2021-03-16-11-03-07-300x231.png)\n",
        "\n",
        "another metrics for green known as the Green channel-\n",
        "\n",
        "![](https://cdn.analyticsvidhya.com/wp-content/uploads/2021/03/Screenshot-from-2021-03-16-11-03-49-300x206.png)\n",
        "\n",
        "and finally a matrix for the blue color also known as the Blue channel.\n",
        "\n",
        "![](https://cdn.analyticsvidhya.com/wp-content/uploads/2021/03/Screenshot-from-2021-03-16-11-03-58-300x224.png)\n",
        "\n",
        "Each of these metrics would again have values ranging from 0 to 255 where each of these numbers represents the intensity of the pixels or you can say that the shades of red, green, and blue. Finally, all of these channels or all of these matrices are superimposed so the shape of the image, when loaded in a computer, will be\n",
        "$$ N \\times M \\times 3 $$\n",
        "where N is the number of pixels across the height, M would be the number of pixels across the width, and 3 is representing the number of channels, in this case, we have 3 channels R, G, and B. In our example, the shape of the colored image would be-     6 x 5 x 3 since we have 6 pixels across the height, 5 across the width and there are 3 channels present."
      ],
      "metadata": {
        "id": "Cwx6UIcMDN13"
      }
    },
    {
      "cell_type": "code",
      "source": [
        "# create a random matrix of size n x m\n",
        "import numpy as np\n",
        "import matplotlib.pyplot as plt\n",
        "size = [28,28,3]\n",
        "img = (np.random.standard_normal(size) * 255).astype(np.uint8)\n",
        "# print(matrixImage)\n",
        "plt.imshow(img,interpolation=\"none\")"
      ],
      "metadata": {
        "colab": {
          "base_uri": "https://localhost:8080/",
          "height": 283
        },
        "id": "HHsuQN3tCMbK",
        "outputId": "8b073775-9e83-4659-95fc-f64a8253c335"
      },
      "execution_count": null,
      "outputs": [
        {
          "output_type": "execute_result",
          "data": {
            "text/plain": [
              "<matplotlib.image.AxesImage at 0x7f28616b5ed0>"
            ]
          },
          "metadata": {},
          "execution_count": 21
        },
        {
          "output_type": "display_data",
          "data": {
            "image/png": "[encoded data removed]",
            "text/plain": [
              "<Figure size 432x288 with 1 Axes>"
            ]
          },
          "metadata": {
            "needs_background": "light"
          }
        }
      ]
    },
    {
      "cell_type": "markdown",
      "source": [
        "## Identification Of Independent Attributes (RANK of Matrix)\n"
      ],
      "metadata": {
        "id": "CMva3nZAGd05"
      }
    },
    {
      "cell_type": "markdown",
      "source": [
        "I have a matrix where I have several samples and several\n",
        "variables, I might be interested in knowing if all the variables that are\n",
        "there in the data are important. In other words, I would really like to\n",
        "know of all these variables, how many are actually independent\n",
        "variables?"
      ],
      "metadata": {
        "id": "sZz10x0TGqDa"
      }
    },
    {
      "cell_type": "markdown",
      "source": [
        "#### We ask the following questions:\n",
        "1. Are all the attributes in data matrix are important ?\n",
        "2. Is there is any method which can identify if some attributes are related to other attributes ?\n",
        "3. if yes, how we identify the relationship ?\n",
        "4. can we use this to reduce the size of the matrix."
      ],
      "metadata": {
        "id": "FDfT7IaHHBN5"
      }
    },
    {
      "cell_type": "markdown",
      "source": [
        "Example:\n",
        "\n",
        "- Consider the example with multiple attributes (say 4 in this case) Pressure,Temperature,Density and Viscosity with 500 data samples.\n",
        "- Thus we have $500 \\times 4$ matrix such that\n",
        "$A = \\begin{bmatrix} P & T & D & \\eta \\end{bmatrix}$\n",
        "- $P,T,D,\\eta$ are vectors of 500 samples from the pressure , temperature, density and viscosity.\n",
        "- How, one identify the number of independent attributes."
      ],
      "metadata": {
        "id": "4tJ0z5AsHv6c"
      }
    },
    {
      "cell_type": "markdown",
      "source": [
        "**How, one identify the number of independent attributes ?**\n",
        "\n",
        "1. Domain Knowledge: $D \\sim f(P,T)$\n",
        "  - domain knowledge it might be possible to say that density is in general a function of pressure and temperature.\n",
        "\n",
        "2. So, this implies that at least one attribute is dependent on the other and if this relationship happens to be a linear relationship then this variable can be\n",
        "calculated as a linear combination of the other variables."
      ],
      "metadata": {
        "id": "LOgojf0dJP7m"
      }
    },
    {
      "cell_type": "markdown",
      "source": [
        "- Let us assume that we have many more samples than attributes for now.\n",
        "- Is there is any approach which can used to identify the number of linear relationships between attributes purely using data ?\n",
        "- This is addressed by the concept of **rank** of the matrix.\n",
        "- **Rank** of the matrix refers to the number of linearly independent rows or cols of the matrix.\n",
        "- numpy function : ***np.linalg.matrix_rank(my_matrix)***\n",
        "Example:\n",
        "$$\n",
        "\\begin{bmatrix}\n",
        "1 & 2 & 1 \\\\\n",
        "2 & 4 & 0 \\\\\n",
        "3 & 6 & 0 \\\\\n",
        "\\end{bmatrix}\n",
        "$$\n",
        "\n",
        "- In above example $Col_2 = 2\\times Col_1$\n",
        "- $Col_3$ is independent.\n",
        "- Thus, Rank of matrix is 2."
      ],
      "metadata": {
        "id": "wUO4MP7eJnpe"
      }
    },
    {
      "cell_type": "code",
      "source": [
        "import numpy as np\n",
        "my_matrix = np.array([[1, 2, 1], [2,4,0], [3,6,0]])\n",
        "print(\"Matrix\")\n",
        "for row in my_matrix:\n",
        "    print(row)\n",
        "rank = np.linalg.matrix_rank(my_matrix)\n",
        "print(\"Rank of the given Matrix is : \",rank)"
      ],
      "metadata": {
        "id": "iJn9A9DFKnTK"
      },
      "execution_count": null,
      "outputs": []
    },
    {
      "cell_type": "markdown",
      "source": [
        "#### Advantages of Rank\n",
        "\n",
        "1. Work with reduced set of variables.\n",
        "2. Dependent attributes can be calculated if they are from the same data generation process.\n",
        "3. And if you identify that there are certain variables which are dependent on other variables and as long as the data generation process is the same, it does not matter how many samples that you generate, you can always find the de-pendent variables as a function of the independent variables."
      ],
      "metadata": {
        "id": "c27pTkBKL3FY"
      }
    },
    {
      "cell_type": "markdown",
      "source": [
        "## Identification of Linear Relationship among Attributes."
      ],
      "metadata": {
        "id": "CSowIom7MtS3"
      }
    },
    {
      "cell_type": "markdown",
      "source": [
        "- If the number of independent variables are less than the number of variables. Then that basically automatically means that there are really linear relationships between these variables.\n",
        "\n",
        "- This is addressed by the concept of **null space and nullity.**"
      ],
      "metadata": {
        "id": "P0uArYYGM2lZ"
      }
    },
    {
      "cell_type": "markdown",
      "source": [
        "#### Null Space"
      ],
      "metadata": {
        "id": "aH9BGiUuNXXI"
      }
    },
    {
      "cell_type": "markdown",
      "source": [
        "- The null space of matrix $A$ consist of all vectors $\\beta$ such that $A \\cdot \\beta = 0$ and $\\beta \\neq 0$"
      ],
      "metadata": {
        "id": "elBHSQE8NbJy"
      }
    },
    {
      "cell_type": "markdown",
      "source": [
        "#### Nullity"
      ],
      "metadata": {
        "id": "mtKPvSCnN3Cz"
      }
    },
    {
      "cell_type": "markdown",
      "source": [
        "- Nullity of a matrix is the number of matrix in the null space of given matrix."
      ],
      "metadata": {
        "id": "WfmPsJWFOD9s"
      }
    },
    {
      "cell_type": "markdown",
      "source": [
        "#### Points"
      ],
      "metadata": {
        "id": "JkujoAxHOFxu"
      }
    },
    {
      "cell_type": "markdown",
      "source": [
        "- The Size of the null space of a matrix provide us with the number of linear relations among attriutes.\n",
        "- And the null space vectors $\\beta$ are useful to identify these linear relationships."
      ],
      "metadata": {
        "id": "ValAV6OJOIJJ"
      }
    },
    {
      "cell_type": "markdown",
      "source": [
        "Echlon Form : [Youtube](https://youtu.be/eS3l3jmoN08)\n",
        "\n",
        "Echlon Form : [Youtube](https://youtu.be/ccaHV-ukK2o?t=455)\n",
        "\n",
        "How to find Null Space : [Youtube](https://youtu.be/CiIkJA05-vA)\n",
        "\n",
        "Find Nullity , Rank , Null Space : [Youtube](https://youtu.be/ccaHV-ukK2o)\n",
        "\n"
      ],
      "metadata": {
        "id": "D0gJMyhlQJIA"
      }
    },
    {
      "cell_type": "markdown",
      "source": [
        "#### Points"
      ],
      "metadata": {
        "id": "Rn5X4djcRajF"
      }
    },
    {
      "cell_type": "markdown",
      "source": [
        "- Let us Suppose:\n",
        "- $A = \\begin{bmatrix} \n",
        "  x_11 & ... & x_1n \\\\\n",
        "  . & ... & . \\\\\n",
        "  . & ... & . \\\\\n",
        "  . & ... & . \\\\\n",
        "  x_m1 & ... & x_mn\n",
        " \\end{bmatrix}$ is a data matrix and there is one vector in the null space of A, i.e., $\\beta = \\begin{bmatrix} B_1 & ... & B_m \\end{bmatrix}^T$, then as per defination, $\\beta$ satisfy all the equatios below:\n",
        "\n",
        " $$x_{11}\\beta_1 + x_{12}\\beta_2 + ... x_{1n}\\beta_n = 0$$\n",
        " $$.$$\n",
        " $$.$$\n",
        " $$x_{m1}\\beta_1 + x_{m2}\\beta_2 + ... x_{mn}\\beta_n = 0$$"
      ],
      "metadata": {
        "id": "ZhxeoFR9RdAe"
      }
    },
    {
      "cell_type": "markdown",
      "source": [
        "- If $A \\cdot \\beta = 0$,every row of $A$ when multiplied by $\\beta$ goes to 0.\n",
        "- This implies that the variable values in each sample(represented by row) behave the same.\n",
        "- This helps in identifying the relationship in the attributes.\n",
        "- Every null space vector corresponds to linear relationship."
      ],
      "metadata": {
        "id": "Hp9Tq6_kTF5B"
      }
    },
    {
      "cell_type": "markdown",
      "source": [
        "## Rank Nullity Theorem"
      ],
      "metadata": {
        "id": "B22Cfdb0T4m_"
      }
    },
    {
      "cell_type": "markdown",
      "source": [
        "It Helps us to relate the nullity of the data matrix to the rank and the numbers of attributes in the data.\n"
      ],
      "metadata": {
        "id": "crTFxh2KT_Sf"
      }
    },
    {
      "cell_type": "markdown",
      "source": [
        "$$\\text{Nullity of A} + \\text{Rank of A} = \\text{Total Number of Attributes of A}$$\n",
        "\n",
        "$$\\text{Number of Equations} + \\text{Number of Independent Variables} = \\text{Total Number of Variables}$$"
      ],
      "metadata": {
        "id": "UWVdKh3AUOxd"
      }
    },
    {
      "cell_type": "markdown",
      "source": [
        "##### Matrix 1"
      ],
      "metadata": {
        "id": "8FhbaF86XRV4"
      }
    },
    {
      "cell_type": "code",
      "source": [
        "from sympy import Matrix\n",
        "A = [[1,2],[3,4],[5,6]]\n",
        "A = Matrix(A)\n",
        "print(\"A : \",A)\n",
        "\n",
        "# Number of Columns\n",
        "NoC = A.shape[1]\n",
        "print(\"No. of columns in A : \",NoC)\n",
        "# Rank of A\n",
        "rank = A.rank()\n",
        "print(\"Rank of A : \",rank)\n",
        "# Nullity of the Matrix\n",
        "nullity = NoC - rank\n",
        "print(\"Nullity : \", nullity)\n",
        "\n",
        "if nullity!=0:\n",
        "  NullSpace = A.nullspace()\n",
        "  NullSpace = Matrix(NullSpace)\n",
        "  print(\"Null Space : \", NullSpace)\n",
        "  print(\"A*NullSpace : \",A * NullSpace)"
      ],
      "metadata": {
        "colab": {
          "base_uri": "https://localhost:8080/"
        },
        "id": "ebIb7-wPVI75",
        "outputId": "31aa9baa-d8f8-464a-a333-900b7c874401"
      },
      "execution_count": null,
      "outputs": [
        {
          "output_type": "stream",
          "name": "stdout",
          "text": [
            "A :  Matrix([[1, 2], [3, 4], [5, 6]])\n",
            "No. of columns in A :  2\n",
            "Rank of A :  2\n",
            "Nullity :  0\n"
          ]
        }
      ]
    },
    {
      "cell_type": "markdown",
      "source": [
        "##### Matrix 2\n"
      ],
      "metadata": {
        "id": "Bh2VseeeXVHQ"
      }
    },
    {
      "cell_type": "markdown",
      "source": [
        "Example:\n",
        "\n",
        "$$\\begin{bmatrix}\n",
        "1 & 2 & 0 \\\\\n",
        "2 & 4 & 0 \\\\\n",
        "3 & 6 & 1 \\\\\n",
        "\\end{bmatrix}\n",
        "\\begin{bmatrix}\n",
        "\\beta_1 \\\\\n",
        "\\beta_2 \\\\\n",
        "\\beta_3 \\\\\n",
        "\\end{bmatrix} = \n",
        "\\begin{bmatrix}\n",
        "0 \\\\\n",
        "0 \\\\\n",
        "0 \\\\\n",
        "\\end{bmatrix}\n",
        "$$\n",
        "\n",
        "- We obtain, $\\beta_1 + 2\\cdot\\beta_2 = 0$ ; $\\beta_3 = 0$\n",
        "\n",
        "- The Null Vector is $B = \\begin{bmatrix} -2\\beta_2 & \\beta_2 & 0 \\end{bmatrix}^T = k \\begin{bmatrix} -2 & 1 & 0 \\end{bmatrix}^T $\n",
        "\n",
        "- We see that we obtain a direct linear relationship between the attributes of A using null space and rank nullity theorem.\n"
      ],
      "metadata": {
        "id": "8rNGOVicXg1g"
      }
    },
    {
      "cell_type": "code",
      "source": [
        "from sympy import Matrix\n",
        "A = [[1,2,0],[2,4,0],[3,6,1]]\n",
        "A = Matrix(A)\n",
        "print(\"A : \",A)\n",
        "\n",
        "# Number of Columns\n",
        "NoC = A.shape[1]\n",
        "print(\"No. of columns in A : \",NoC)\n",
        "# Rank of A\n",
        "rank = A.rank()\n",
        "print(\"Rank of A : \",rank)\n",
        "# Nullity of the Matrix\n",
        "nullity = NoC - rank\n",
        "print(\"Nullity : \", nullity)\n",
        "\n",
        "if nullity!=0:\n",
        "  NullSpace = A.nullspace()\n",
        "  NullSpace = Matrix(NullSpace)\n",
        "  print(\"Null Space : \", NullSpace)\n",
        "  print(\"A*NullSpace : \",A * NullSpace)"
      ],
      "metadata": {
        "colab": {
          "base_uri": "https://localhost:8080/"
        },
        "id": "J8Ay_D2KXYsZ",
        "outputId": "50f96303-bd8f-42f8-e5d5-7bdb2d321e8f"
      },
      "execution_count": null,
      "outputs": [
        {
          "output_type": "stream",
          "name": "stdout",
          "text": [
            "A :  Matrix([[1, 2, 0], [2, 4, 0], [3, 6, 1]])\n",
            "No. of columns in A :  3\n",
            "Rank of A :  2\n",
            "Nullity :  1\n",
            "Null Space :  Matrix([[-2], [1], [0]])\n",
            "A*NullSpace :  Matrix([[0], [0], [0]])\n"
          ]
        }
      ]
    }
  ]
}